{
 "cells": [
  {
   "cell_type": "code",
   "execution_count": 1,
   "metadata": {},
   "outputs": [
    {
     "name": "stdout",
     "output_type": "stream",
     "text": [
      "WARNING: pip is being invoked by an old script wrapper. This will fail in a future version of pip.\n",
      "Please see https://github.com/pypa/pip/issues/5599 for advice on fixing the underlying issue.\n",
      "To avoid this problem you can invoke Python with '-m pip' instead of running pip directly.\n",
      "Requirement already satisfied: opencv-python in ./.local/lib/python3.6/site-packages (4.5.1.48)\n",
      "Requirement already satisfied: numpy>=1.13.3 in /rds/general/applications/jupyterhub/2019-04-29/miniconda/lib/python3.6/site-packages (from opencv-python) (1.16.2)\n",
      "WARNING: pip is being invoked by an old script wrapper. This will fail in a future version of pip.\n",
      "Please see https://github.com/pypa/pip/issues/5599 for advice on fixing the underlying issue.\n",
      "To avoid this problem you can invoke Python with '-m pip' instead of running pip directly.\n",
      "Requirement already satisfied: scipy in /rds/general/applications/jupyterhub/2019-04-29/miniconda/lib/python3.6/site-packages (1.2.1)\n",
      "WARNING: pip is being invoked by an old script wrapper. This will fail in a future version of pip.\n",
      "Please see https://github.com/pypa/pip/issues/5599 for advice on fixing the underlying issue.\n",
      "To avoid this problem you can invoke Python with '-m pip' instead of running pip directly.\n",
      "Requirement already satisfied: ffmpeg-python in ./.local/lib/python3.6/site-packages (0.2.0)\n",
      "Requirement already satisfied: future in ./.local/lib/python3.6/site-packages (from ffmpeg-python) (0.18.2)\n",
      "WARNING: pip is being invoked by an old script wrapper. This will fail in a future version of pip.\n",
      "Please see https://github.com/pypa/pip/issues/5599 for advice on fixing the underlying issue.\n",
      "To avoid this problem you can invoke Python with '-m pip' instead of running pip directly.\n",
      "Requirement already satisfied: matplotlib in /rds/general/applications/jupyterhub/2019-04-29/miniconda/lib/python3.6/site-packages (3.0.3)\n",
      "Requirement already satisfied: numpy>=1.10.0 in /rds/general/applications/jupyterhub/2019-04-29/miniconda/lib/python3.6/site-packages (from matplotlib) (1.16.2)\n",
      "Requirement already satisfied: cycler>=0.10 in /rds/general/applications/jupyterhub/2019-04-29/miniconda/lib/python3.6/site-packages (from matplotlib) (0.10.0)\n",
      "Requirement already satisfied: kiwisolver>=1.0.1 in /rds/general/applications/jupyterhub/2019-04-29/miniconda/lib/python3.6/site-packages (from matplotlib) (1.1.0)\n",
      "Requirement already satisfied: pyparsing!=2.0.4,!=2.1.2,!=2.1.6,>=2.0.1 in /rds/general/applications/jupyterhub/2019-04-29/miniconda/lib/python3.6/site-packages (from matplotlib) (2.4.0)\n",
      "Requirement already satisfied: python-dateutil>=2.1 in /rds/general/applications/jupyterhub/2019-04-29/miniconda/lib/python3.6/site-packages (from matplotlib) (2.8.0)\n",
      "Requirement already satisfied: six in /rds/general/applications/jupyterhub/2019-04-29/miniconda/lib/python3.6/site-packages (from cycler>=0.10->matplotlib) (1.12.0)\n",
      "Requirement already satisfied: setuptools in ./.local/lib/python3.6/site-packages (from kiwisolver>=1.0.1->matplotlib) (56.0.0)\n",
      "WARNING: pip is being invoked by an old script wrapper. This will fail in a future version of pip.\n",
      "Please see https://github.com/pypa/pip/issues/5599 for advice on fixing the underlying issue.\n",
      "To avoid this problem you can invoke Python with '-m pip' instead of running pip directly.\n",
      "Requirement already satisfied: numpy in /rds/general/applications/jupyterhub/2019-04-29/miniconda/lib/python3.6/site-packages (1.16.2)\n"
     ]
    }
   ],
   "source": [
    "!pip install --user opencv-python\n",
    "!pip install --user scipy\n",
    "!pip install --user ffmpeg-python\n",
    "!pip install --user matplotlib\n",
    "!pip install --user numpy"
   ]
  },
  {
   "cell_type": "code",
   "execution_count": 2,
   "metadata": {},
   "outputs": [
    {
     "name": "stdout",
     "output_type": "stream",
     "text": [
      "WARNING: pip is being invoked by an old script wrapper. This will fail in a future version of pip.\n",
      "Please see https://github.com/pypa/pip/issues/5599 for advice on fixing the underlying issue.\n",
      "To avoid this problem you can invoke Python with '-m pip' instead of running pip directly.\n",
      "Requirement already satisfied: moviepy in ./.local/lib/python3.6/site-packages (1.0.3)\n",
      "Requirement already satisfied: decorator<5.0,>=4.0.2 in /rds/general/applications/jupyterhub/2019-04-29/miniconda/lib/python3.6/site-packages (from moviepy) (4.4.0)\n",
      "Requirement already satisfied: numpy in /rds/general/applications/jupyterhub/2019-04-29/miniconda/lib/python3.6/site-packages (from moviepy) (1.16.2)\n",
      "Requirement already satisfied: tqdm<5.0,>=4.11.2 in ./.local/lib/python3.6/site-packages (from moviepy) (4.60.0)\n",
      "Requirement already satisfied: imageio<3.0,>=2.5 in ./.local/lib/python3.6/site-packages (from moviepy) (2.9.0)\n",
      "Collecting numpy>=1.17.3\n",
      "  Using cached numpy-1.19.5-cp36-cp36m-manylinux2010_x86_64.whl (14.8 MB)\n",
      "Requirement already satisfied: imageio-ffmpeg>=0.2.0 in ./.local/lib/python3.6/site-packages (from moviepy) (0.4.3)\n",
      "Requirement already satisfied: requests<3.0,>=2.8.1 in /rds/general/applications/jupyterhub/2019-04-29/miniconda/lib/python3.6/site-packages (from moviepy) (2.21.0)\n",
      "Requirement already satisfied: proglog<=1.0.0 in ./.local/lib/python3.6/site-packages (from moviepy) (0.1.9)\n",
      "Requirement already satisfied: pillow in /rds/general/applications/jupyterhub/2019-04-29/miniconda/lib/python3.6/site-packages (from imageio<3.0,>=2.5->moviepy) (6.0.0)\n",
      "Requirement already satisfied: urllib3<1.25,>=1.21.1 in /rds/general/applications/jupyterhub/2019-04-29/miniconda/lib/python3.6/site-packages (from requests<3.0,>=2.8.1->moviepy) (1.24.2)\n",
      "Requirement already satisfied: chardet<3.1.0,>=3.0.2 in /rds/general/applications/jupyterhub/2019-04-29/miniconda/lib/python3.6/site-packages (from requests<3.0,>=2.8.1->moviepy) (3.0.4)\n",
      "Requirement already satisfied: certifi>=2017.4.17 in /rds/general/applications/jupyterhub/2019-04-29/miniconda/lib/python3.6/site-packages (from requests<3.0,>=2.8.1->moviepy) (2019.3.9)\n",
      "Requirement already satisfied: idna<2.9,>=2.5 in /rds/general/applications/jupyterhub/2019-04-29/miniconda/lib/python3.6/site-packages (from requests<3.0,>=2.8.1->moviepy) (2.8)\n",
      "Installing collected packages: numpy\n",
      "\u001b[33m  WARNING: The scripts f2py, f2py3 and f2py3.6 are installed in '/rds/general/user/pm4617/home/.local/bin' which is not on PATH.\n",
      "  Consider adding this directory to PATH or, if you prefer to suppress this warning, use --no-warn-script-location.\u001b[0m\n",
      "Successfully installed numpy-1.19.5\n"
     ]
    }
   ],
   "source": [
    "!pip install --user moviepy"
   ]
  },
  {
   "cell_type": "code",
   "execution_count": 3,
   "metadata": {},
   "outputs": [],
   "source": [
    "from scipy import signal\n",
    "import csv\n",
    "import numpy as np\n",
    "import matplotlib.pyplot as plt\n",
    "import cv2"
   ]
  },
  {
   "cell_type": "code",
   "execution_count": 4,
   "metadata": {},
   "outputs": [],
   "source": [
    "# read in data\n",
    "with open('output_data/simulation_14/layer_0_full_spikes.csv', newline='') as csv_file:\n",
    "    l0_spike_times = list(csv.reader(csv_file))\n",
    "with open('output_data/simulation_14/layer_1_excitatory_full_spikes.csv', newline='') as csv_file:\n",
    "    l1_exc_spike_times = list(csv.reader(csv_file))\n",
    "with open('output_data/simulation_14/layer_1_inhibitory_full_spikes.csv', newline='') as csv_file:\n",
    "    l1_inh_spike_times = list(csv.reader(csv_file))\n",
    "with open('output_data/simulation_14/layer_2_excitatory_full_spikes.csv', newline='') as csv_file:\n",
    "    l2_exc_spike_times = list(csv.reader(csv_file))\n",
    "with open('output_data/simulation_14/layer_2_inhibitory_full_spikes.csv', newline='') as csv_file:\n",
    "    l2_inh_spike_times = list(csv.reader(csv_file))\n",
    "with open('output_data/simulation_14/layer_3_excitatory_full_spikes.csv', newline='') as csv_file:\n",
    "    l3_exc_spike_times = list(csv.reader(csv_file))\n",
    "with open('output_data/simulation_14/layer_3_inhibitory_full_spikes.csv', newline='') as csv_file:\n",
    "    l3_inh_spike_times = list(csv.reader(csv_file))\n",
    "with open('output_data/simulation_14/layer_4_excitatory_full_spikes.csv', newline='') as csv_file:\n",
    "    l4_exc_spike_times= list(csv.reader(csv_file))\n",
    "with open('output_data/simulation_14/layer_4_inhibitory_full_spikes.csv', newline='') as csv_file:\n",
    "    l4_inh_spike_times = list(csv.reader(csv_file))"
   ]
  },
  {
   "cell_type": "code",
   "execution_count": 5,
   "metadata": {},
   "outputs": [],
   "source": [
    "# parameters\n",
    "f_samp  = 100  # sampling frequency\n",
    "T = 32           # length of spike data in seconds\n",
    "N_neurons_exc = 4096 # number of neurons\n",
    "N_neurons_inh = 1024\n",
    "N_neurons_poisson = 65536\n",
    "\n",
    " # empty arrays to store binary series\n",
    "l1_exc_spikes = np.zeros([N_neurons_exc,T*f_samp]).astype(int)\n",
    "l2_exc_spikes = np.zeros([N_neurons_exc,T*f_samp]).astype(int)\n",
    "l3_exc_spikes = np.zeros([N_neurons_exc,T*f_samp]).astype(int)\n",
    "l4_exc_spikes = np.zeros([N_neurons_exc,T*f_samp]).astype(int)\n",
    "l1_inh_spikes = np.zeros([N_neurons_inh,T*f_samp]).astype(int)\n",
    "l2_inh_spikes = np.zeros([N_neurons_inh,T*f_samp]).astype(int)\n",
    "l3_inh_spikes = np.zeros([N_neurons_inh,T*f_samp]).astype(int)\n",
    "l4_inh_spikes = np.zeros([N_neurons_inh,T*f_samp]).astype(int)\n",
    "\n",
    "poisson_spikes = []\n",
    "for i in range(10):\n",
    "    poisson_single = np.zeros([N_neurons_poisson,T*f_samp]).astype(int)\n",
    "    poisson_spikes.append(poisson_single)\n",
    "    \n",
    "# turn spike data into binary series\n",
    "\n",
    "# LIF neurons\n",
    "count = 0\n",
    "for time in l1_exc_spike_times[1][:]:\n",
    "    time_idx = int(float(time)*f_samp)\n",
    "    neuron = int(l1_exc_spike_times[0][count])\n",
    "    # print('time: {}'.format(time_idx))\n",
    "    # print('neuron: {}'.format(neuron))\n",
    "    l1_exc_spikes[neuron,time_idx] = 255\n",
    "    count+=1\n",
    "count = 0\n",
    "for time in l1_inh_spike_times[1][:]:\n",
    "    time_idx = int(float(time)*f_samp)\n",
    "    neuron = int(l1_inh_spike_times[0][count])\n",
    "    # print('time: {}'.format(time_idx))\n",
    "    # print('neuron: {}'.format(neuron))\n",
    "    l1_inh_spikes[neuron,time_idx] = 255\n",
    "    count+=1\n",
    "count = 0\n",
    "for time in l2_exc_spike_times[1][:]:\n",
    "    time_idx = int(float(time)*f_samp)\n",
    "    neuron = int(l2_exc_spike_times[0][count])\n",
    "    # print('time: {}'.format(time_idx))\n",
    "    # print('neuron: {}'.format(neuron))\n",
    "    l2_exc_spikes[neuron,time_idx] = 255\n",
    "    count+=1\n",
    "count = 0\n",
    "for time in l2_inh_spike_times[1][:]:\n",
    "    time_idx = int(float(time)*f_samp)\n",
    "    neuron = int(l2_inh_spike_times[0][count])\n",
    "    # print('time: {}'.format(time_idx))\n",
    "    # print('neuron: {}'.format(neuron))\n",
    "    l2_inh_spikes[neuron,time_idx] = 255\n",
    "    count+=1\n",
    "count = 0\n",
    "for time in l3_exc_spike_times[1][:]:\n",
    "    time_idx = int(float(time)*f_samp)\n",
    "    neuron = int(l3_exc_spike_times[0][count])\n",
    "    # print('time: {}'.format(time_idx))\n",
    "    # print('neuron: {}'.format(neuron))\n",
    "    l3_exc_spikes[neuron,time_idx] = 255\n",
    "    count+=1\n",
    "count = 0\n",
    "for time in l3_inh_spike_times[1][:]:\n",
    "    time_idx = int(float(time)*f_samp)\n",
    "    neuron = int(l3_inh_spike_times[0][count])\n",
    "    # print('time: {}'.format(time_idx))\n",
    "    # print('neuron: {}'.format(neuron))\n",
    "    l3_inh_spikes[neuron,time_idx] = 255\n",
    "    count+=1\n",
    "count = 0\n",
    "for time in l4_exc_spike_times[1][:]:\n",
    "    time_idx = int(float(time)*f_samp)\n",
    "    neuron = int(l4_exc_spike_times[0][count])\n",
    "    # print('time: {}'.format(time_idx))\n",
    "    # print('neuron: {}'.format(neuron))\n",
    "    l4_exc_spikes[neuron,time_idx] = 255\n",
    "    count+=1\n",
    "count = 0\n",
    "for time in l4_inh_spike_times[1][:]:\n",
    "    time_idx = int(float(time)*f_samp)\n",
    "    neuron = int(l4_inh_spike_times[0][count])\n",
    "    # print('time: {}'.format(time_idx))\n",
    "    # print('neuron: {}'.format(neuron))\n",
    "    l4_inh_spikes[neuron,time_idx] = 255\n",
    "    count+=1\n",
    "    \n",
    "# Poisson neurons \n",
    "count = 0\n",
    "for time in l0_spike_times[1][:]:\n",
    "    time_idx = int(float(time)*f_samp)\n",
    "    neuron = int(l4_inh_spike_times[0][count])\n",
    "    # print('time: {}'.format(time_idx))\n",
    "    # print('neuron: {}'.format(neuron))\n",
    "    for i in range(10):\n",
    "        if i*N_neurons_poisson < neuron <= (i+1)*N_neurons_poisson:\n",
    "            poisson_spikes[i][neuron,time_idx] = 255\n",
    "    count+=1\n"
   ]
  },
  {
   "cell_type": "code",
   "execution_count": 6,
   "metadata": {},
   "outputs": [],
   "source": [
    "# create images of spikes according to spatial location through time\n",
    "\n",
    "l1_exc_frames = np.empty([64,64,f_samp*T]).astype(int)\n",
    "l2_exc_frames = np.empty([64,64,f_samp*T]).astype(int)\n",
    "l3_exc_frames = np.empty([64,64,f_samp*T]).astype(int)\n",
    "l4_exc_frames = np.empty([64,64,f_samp*T]).astype(int)\n",
    "l1_inh_frames = np.empty([32,32,f_samp*T]).astype(int)\n",
    "l2_inh_frames = np.empty([32,32,f_samp*T]).astype(int)\n",
    "l3_inh_frames = np.empty([32,32,f_samp*T]).astype(int)\n",
    "l4_inh_frames = np.empty([32,32,f_samp*T]).astype(int)\n",
    "\n",
    "poisson_frames = []\n",
    "for i in range(10):\n",
    "    poisson_single_frames = np.empty([256,256,f_samp*T]).astype(int)\n",
    "    poisson_frames.append(poisson_single_frames)\n",
    "    \n",
    "for n in range(f_samp*T):\n",
    "    count = 0\n",
    "    for x in range(64):\n",
    "        for y in range(64):\n",
    "            l1_exc_frames[x,y,n] = l1_exc_spikes[count,n]\n",
    "            l2_exc_frames[x,y,n] = l2_exc_spikes[count,n]\n",
    "            l3_exc_frames[x,y,n] = l3_exc_spikes[count,n]\n",
    "            l4_exc_frames[x,y,n] = l4_exc_spikes[count,n]\n",
    "            count += 1\n",
    "    count = 0\n",
    "    for x in range(32):\n",
    "        for y in range(32):\n",
    "            l1_inh_frames[x,y,n] = l1_inh_spikes[count,n]\n",
    "            l2_inh_frames[x,y,n] = l2_inh_spikes[count,n]\n",
    "            l3_inh_frames[x,y,n] = l3_inh_spikes[count,n]\n",
    "            l4_inh_frames[x,y,n] = l4_inh_spikes[count,n]\n",
    "            count += 1\n",
    "    count = 0\n",
    "    for i in range(10):\n",
    "        for x in range(256):\n",
    "            for y in range(256):\n",
    "                poisson_frames[i][x,y,n] = poisson_spikes[i][count,n]"
   ]
  },
  {
   "cell_type": "code",
   "execution_count": 7,
   "metadata": {},
   "outputs": [],
   "source": [
    "# moving average\n",
    "l1_exc_activity = np.empty([64,64,f_samp*T]).astype(int)\n",
    "l2_exc_activity = np.empty([64,64,f_samp*T]).astype(int)\n",
    "l3_exc_activity = np.empty([64,64,f_samp*T]).astype(int)\n",
    "l4_exc_activity = np.empty([64,64,f_samp*T]).astype(int)\n",
    "l1_inh_activity = np.empty([32,32,f_samp*T]).astype(int)\n",
    "l2_inh_activity = np.empty([32,32,f_samp*T]).astype(int)\n",
    "l3_inh_activity = np.empty([32,32,f_samp*T]).astype(int)\n",
    "l4_inh_activity = np.empty([32,32,f_samp*T]).astype(int)\n",
    "\n",
    "poisson_activity = []\n",
    "for i in range(10):\n",
    "    poisson_single_frames = np.empty([256,256,f_samp*T]).astype(int)\n",
    "    poisson_activity.append(poisson_single_frames)\n",
    "\n",
    "ma = np.ones([10])/10 # convolution kernel for MA filter\n",
    "for x in range(64):\n",
    "    for y in range(64):\n",
    "        l1_exc_activity[x,y,:] = signal.convolve(l1_exc_frames[x,y,:],ma,mode='same')\n",
    "        l2_exc_activity[x,y,:] = signal.convolve(l2_exc_frames[x,y,:],ma,mode='same')\n",
    "        l3_exc_activity[x,y,:] = signal.convolve(l3_exc_frames[x,y,:],ma,mode='same')\n",
    "        l4_exc_activity[x,y,:] = signal.convolve(l4_exc_frames[x,y,:],ma,mode='same')\n",
    "for x in range(32):\n",
    "    for y in range(32):\n",
    "        l1_inh_activity[x,y,:] = signal.convolve(l1_inh_frames[x,y,:],ma,mode='same')\n",
    "        l2_inh_activity[x,y,:] = signal.convolve(l2_inh_frames[x,y,:],ma,mode='same')\n",
    "        l3_inh_activity[x,y,:] = signal.convolve(l3_inh_frames[x,y,:],ma,mode='same')\n",
    "        l4_inh_activity[x,y,:] = signal.convolve(l4_inh_frames[x,y,:],ma,mode='same')\n",
    "for i in range(10):\n",
    "    for x in range(256):\n",
    "        for y in range(256):\n",
    "            poisson_activity[i][x,y,:] = signal.convolve(poisson_frames[i][x,y,:],ma,mode='same')"
   ]
  },
  {
   "cell_type": "code",
   "execution_count": 8,
   "metadata": {},
   "outputs": [],
   "source": [
    "%matplotlib inline"
   ]
  },
  {
   "cell_type": "code",
   "execution_count": null,
   "metadata": {},
   "outputs": [
    {
     "name": "stderr",
     "output_type": "stream",
     "text": [
      "MovieWriter ffmpeg unavailable. Trying to use pillow instead.\n"
     ]
    },
    {
     "data": {
      "image/png": "[encoded data removed]",
      "text/plain": [
       "<Figure size 432x288 with 1 Axes>"
      ]
     },
     "metadata": {
      "needs_background": "light"
     },
     "output_type": "display_data"
    },
    {
     "name": "stderr",
     "output_type": "stream",
     "text": [
      "MovieWriter ffmpeg unavailable. Trying to use pillow instead.\n"
     ]
    },
    {
     "data": {
      "image/png": "[encoded data removed]",
      "text/plain": [
       "<Figure size 432x288 with 1 Axes>"
      ]
     },
     "metadata": {
      "needs_background": "light"
     },
     "output_type": "display_data"
    },
    {
     "name": "stderr",
     "output_type": "stream",
     "text": [
      "MovieWriter ffmpeg unavailable. Trying to use pillow instead.\n"
     ]
    },
    {
     "data": {
      "image/png": "[encoded data removed]",
      "text/plain": [
       "<Figure size 432x288 with 1 Axes>"
      ]
     },
     "metadata": {
      "needs_background": "light"
     },
     "output_type": "display_data"
    },
    {
     "name": "stderr",
     "output_type": "stream",
     "text": [
      "MovieWriter ffmpeg unavailable. Trying to use pillow instead.\n"
     ]
    },
    {
     "data": {
      "image/png": "[encoded data removed]",
      "text/plain": [
       "<Figure size 432x288 with 1 Axes>"
      ]
     },
     "metadata": {
      "needs_background": "light"
     },
     "output_type": "display_data"
    },
    {
     "name": "stderr",
     "output_type": "stream",
     "text": [
      "MovieWriter ffmpeg unavailable. Trying to use pillow instead.\n"
     ]
    }
   ],
   "source": [
    "# create files of spikes through time\n",
    "\n",
    "fps = f_samp/20        # frames per second (fps = f_samp for real time)\n",
    "N_frames = f_samp*T # number of frames\n",
    "width_exc = 64          # video width in pixels\n",
    "width_inh = 32\n",
    "\n",
    "\n",
    "#%% create files of activity of LIF neurons through time\n",
    "\n",
    "import matplotlib.cm as cm\n",
    "import matplotlib.animation as animation\n",
    "\n",
    "frames = [] # for storing the generated images\n",
    "for i in range(10):\n",
    "    fig = plt.figure()\n",
    "    for j in range(3200):\n",
    "        frames.append([plt.imshow(poisson_activity[i][:,:,j], cmap=cm.hot, animated=True)])\n",
    "    # plt.colorbar()\n",
    "    ani = animation.ArtistAnimation(fig, frames, interval=(1/(1000*fps)), blit=True,\n",
    "                                    repeat_delay=1000)\n",
    "    plt.title('L0 Filt. {}'.format(i+1))\n",
    "    ani.save('L0_filt_{}.gif'.format(i+1))\n",
    "    plt.show()\n",
    "\n",
    "# fig = plt.figure()\n",
    "\n",
    "# def animate(i): \n",
    "#     z = poisson_activity[0][:,:,i]\n",
    "#     cont = plt.imshow(z)\n",
    "#     plt.title('L0 Filt. 1')\n",
    "#     return cont  \n",
    "\n",
    "# nFrames=3200\n",
    "# anim = animation.FuncAnimation(fig, animate, frames=nFrames)\n",
    "# anim.save('L0_filt_1.gif')\n",
    "# plt.show()"
   ]
  },
  {
   "cell_type": "code",
   "execution_count": null,
   "metadata": {},
   "outputs": [],
   "source": [
    "import numpy as np\n",
    "frames = poisson_activity[0]\n",
    "\n",
    "# save it as a gif\n",
    "from moviepy.editor import ImageSequenceClip\n",
    "clip = ImageSequenceClip(list(frames), fps=fps)\n",
    "clip.write_gif('test.gif', fps=fps)"
   ]
  },
  {
   "cell_type": "code",
   "execution_count": null,
   "metadata": {},
   "outputs": [],
   "source": [
    "from IPython.display import display, Image\n",
    "Image('L2_inh.gif')"
   ]
  },
  {
   "cell_type": "code",
   "execution_count": null,
   "metadata": {},
   "outputs": [],
   "source": []
  }
 ],
 "metadata": {
  "kernelspec": {
   "display_name": "Python 3",
   "language": "python",
   "name": "python3"
  },
  "language_info": {
   "codemirror_mode": {
    "name": "ipython",
    "version": 3
   },
   "file_extension": ".py",
   "mimetype": "text/x-python",
   "name": "python",
   "nbconvert_exporter": "python",
   "pygments_lexer": "ipython3",
   "version": "3.6.8"
  }
 },
 "nbformat": 4,
 "nbformat_minor": 2
}
